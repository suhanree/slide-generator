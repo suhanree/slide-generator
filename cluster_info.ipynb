{
 "cells": [
  {
   "cell_type": "code",
   "execution_count": 1,
   "id": "92a59ec2-c486-4048-8137-7c80b981bddc",
   "metadata": {
    "tags": []
   },
   "outputs": [],
   "source": [
    "import json\n",
    "import logging\n",
    "from typing import Annotated, TypedDict, List, Tuple\n",
    "\n",
    "import pandas as pd\n",
    "from langchain_core.messages import HumanMessage, SystemMessage\n",
    "from langchain_core.tools import tool\n",
    "from langgraph.checkpoint.memory import MemorySaver\n",
    "from langgraph.graph import END, START, StateGraph\n",
    "from langgraph.graph.message import add_messages\n",
    "from langgraph.prebuilt import ToolNode\n",
    "\n",
    "# IPython display utilities\n",
    "from IPython.display import Image\n",
    "\n",
    "from utils import *\n",
    "from prompts import *"
   ]
  },
  {
   "cell_type": "markdown",
   "id": "92b0b955-f623-43e0-b9d0-e68ec2e4b50c",
   "metadata": {},
   "source": [
    "# (1) Get segment name and description"
   ]
  },
  {
   "cell_type": "code",
   "execution_count": 2,
   "id": "d0d4e94c-1342-4055-8223-fa03283e8406",
   "metadata": {
    "tags": []
   },
   "outputs": [],
   "source": [
    "INPUT_PATH = \"gs://genai-explorer-bucket/data/cluster_info.csv\""
   ]
  },
  {
   "cell_type": "code",
   "execution_count": 3,
   "id": "5d5e1289-b10f-4ad0-8bf6-f7dc8fb5ebd6",
   "metadata": {
    "tags": []
   },
   "outputs": [
    {
     "name": "stdout",
     "output_type": "stream",
     "text": [
      "<steps>\n",
      "<step_1>\n",
      "# Key Facts About Segment 1\n",
      "\n",
      "1. Very low likelihood of playing fantasy sports (0.094) compared to overall population (0.445)\n",
      "2. Very low likelihood of interest in football (0.076) compared to overall population (0.218)\n",
      "3. Higher household income ($246,136.90) than overall average ($208,310.13)\n",
      "4. Younger age (36.41 years) than overall average (43.97 years)\n",
      "5. Lower spending on purchases ($223.51) than overall average ($267.12)\n",
      "6. This segment represents 24% of the total population\n",
      "</step_1>\n",
      "\n",
      "<step_2>\n",
      "# Segment Description\n",
      "\n",
      "This segment consists of younger professionals in their mid-30s with above-average household incomes of around $246,000. Despite their financial prosperity, they spend less on purchases (about $223 per transaction) than the average consumer. They show remarkably little interest in sports, particularly having minimal engagement with fantasy sports and football compared to the general population. This affluent group appears to allocate their resources toward priorities other than sports entertainment and general shopping.\n",
      "</step_2>\n",
      "\n",
      "<step_3>\n",
      "# Segment Name\n",
      "\n",
      "Affluent Non-Sporting Millennials\n",
      "\n",
      "Actually, I need to avoid negative expressions like \"non-\". Let me revise:\n",
      "\n",
      "Affluent Career-Focused Millennials\n",
      "</step_3>\n",
      "</steps>\n",
      "\n",
      "```json\n",
      "{\n",
      "  \"segment_id\": 1,\n",
      "  \"segment_name\": \"Affluent Career-Focused Millennials\",\n",
      "  \"segment_description\": \"This segment consists of younger professionals in their mid-30s with above-average household incomes of around $246,000. Despite their financial prosperity, they spend less on purchases (about $223 per transaction) than the average consumer. They show remarkably little interest in sports, particularly having minimal engagement with fantasy sports and football compared to the general population.\",\n",
      "  \"segment_share_in_percent\": 24\n",
      "}\n",
      "```\n",
      "<steps>\n",
      "<step_1>\n",
      "# Key Facts About Segment 2\n",
      "\n",
      "1. Risk-Taking in Financial Matters: The segment shows a high tendency to take risks in financial matters (0.77) compared to the overall population (0.42). This indicates they are significantly more financially adventurous.\n",
      "\n",
      "2. Sportsbook Gaming Interest: This segment shows a lower likelihood of interest in sportsbook gaming (0.24) compared to the overall population (0.49). They are less interested in sports betting.\n",
      "\n",
      "3. Age: The average age in this segment is approximately 60 years old (59.92), which is significantly older than the overall population average (43.97).\n",
      "\n",
      "4. Income: The average household income is $135,217, which is lower than the overall population average of $208,310.\n",
      "\n",
      "5. Purchase Frequency: Individuals in this segment make purchases more frequently (185.61 times) compared to the overall average (142.85).\n",
      "\n",
      "6. Segment Size: This segment represents 31% of the total population, making it a substantial segment.\n",
      "</step_1>\n",
      "\n",
      "<step_2>\n",
      "# Segment Description\n",
      "\n",
      "This segment consists of financially adventurous seniors in their early 60s who are willing to take significant financial risks despite having moderate household incomes around $135,000. They are frequent shoppers, making purchases about 186 times per year, well above average. Interestingly, despite their risk-taking financial nature, they show little interest in sportsbook gaming, suggesting their risk appetite is selective and possibly focused on investments rather than gambling.\n",
      "</step_2>\n",
      "\n",
      "<step_3>\n",
      "# Segment Name\n",
      "\n",
      "\"Financially Bold Seniors\"\n",
      "</step_3>\n",
      "</steps>\n",
      "\n",
      "{\"segment_id\": 2,\n",
      " \"segment_name\": \"Financially Bold Seniors\", \n",
      " \"segment_description\": \"This segment consists of financially adventurous seniors in their early 60s who are willing to take significant financial risks despite having moderate household incomes around $135,000. They are frequent shoppers, making purchases about 186 times per year, well above average. Interestingly, despite their risk-taking financial nature, they show little interest in sportsbook gaming, suggesting their risk appetite is selective and possibly focused on investments rather than gambling.\",\n",
      " \"segment_share_in_percent\": 31}\n",
      "<steps>\n",
      "<step_1>\n",
      "# Key Facts About Segment 3\n",
      "\n",
      "1. Spending Behavior:\n",
      "   - Segment mean: $441.55\n",
      "   - Overall mean: $267.12\n",
      "   - This segment spends significantly more money on purchases than average (about 65% more)\n",
      "\n",
      "2. Video Game Interest:\n",
      "   - Segment mean: 0.00\n",
      "   - Overall mean: 0.74\n",
      "   - This segment shows no interest in video games, compared to a moderate interest in the overall population\n",
      "\n",
      "3. Game Attendance:\n",
      "   - Segment mean: 21.37 games per year\n",
      "   - Overall mean: 27.27 games per year\n",
      "   - This segment attends fewer games than the average (about 22% less)\n",
      "\n",
      "4. Purchase Frequency:\n",
      "   - Segment mean: 65.33 purchases\n",
      "   - Overall mean: 142.85 purchases\n",
      "   - This segment makes purchases much less frequently than average (about 54% less)\n",
      "\n",
      "5. Risk-Taking in Financial Matters:\n",
      "   - Segment mean: 0.24\n",
      "   - Overall mean: 0.42\n",
      "   - This segment is more financially conservative than average\n",
      "\n",
      "6. Segment Size:\n",
      "   - This segment represents 32% of the total population, making it a significant segment\n",
      "</step_1>\n",
      "\n",
      "<step_2>\n",
      "This segment consists of high-value but infrequent shoppers who spend around $442 per purchase, significantly above the average of $267. Despite making only 65 purchases compared to the overall average of 143, they are financially conservative with a risk tendency of 0.24. They attend about 21 sporting events annually, slightly below average, and show no interest in video games. Representing 32% of the population, these customers prefer quality over quantity in their purchasing habits.\n",
      "</step_2>\n",
      "\n",
      "<step_3>\n",
      "\"Premium Conservative Spenders\"\n",
      "</step_3>\n",
      "</steps>\n",
      "\n",
      "```json\n",
      "{\n",
      "  \"segment_id\": 3,\n",
      "  \"segment_name\": \"Premium Conservative Spenders\",\n",
      "  \"segment_description\": \"This segment consists of high-value but infrequent shoppers who spend around $442 per purchase, significantly above the average of $267. Despite making only 65 purchases compared to the overall average of 143, they are financially conservative with a risk tendency of 0.24. They attend about 21 sporting events annually, slightly below average, and show no interest in video games.\",\n",
      "  \"segment_share_in_percent\": 32\n",
      "}\n",
      "```\n",
      "<steps>\n",
      "<step_1>\n",
      "# Key Facts About Segment 4\n",
      "\n",
      "1. Very high likelihood of interest in Football (0.941) compared to overall population (0.218) - more than 4 times the average\n",
      "2. Higher likelihood of interest in Sportsbook Gaming (0.786) compared to overall (0.486) - about 1.6 times the average\n",
      "3. Slightly younger than average - 41.3 years old vs overall average of 44.0 years\n",
      "4. Higher household income than average - $223,922 vs overall average of $208,310 (about 7.5% higher)\n",
      "5. More frequent purchasers - makes purchases 168.4 times vs overall average of 142.8 times (about 18% more frequently)\n",
      "6. This segment represents 13% of the total population\n",
      "</step_1>\n",
      "\n",
      "<step_2>\n",
      "This segment consists of avid sports enthusiasts in their early 40s with strong interests in football and sports betting. With household incomes averaging around $224,000, they are more affluent than the general population. These individuals are frequent shoppers, making purchases approximately 168 times per period, significantly more than average. Their passion for football is particularly notable, with interest levels more than four times the general population.\n",
      "</step_2>\n",
      "\n",
      "<step_3>\n",
      "Affluent Sports Enthusiasts\n",
      "</step_3>\n",
      "</steps>\n",
      "\n",
      "```json\n",
      "{\n",
      "  \"segment_id\": 4,\n",
      "  \"segment_name\": \"Affluent Sports Enthusiasts\",\n",
      "  \"segment_description\": \"This segment consists of avid sports enthusiasts in their early 40s with strong interests in football and sports betting. With household incomes averaging around $224,000, they are more affluent than the general population. These individuals are frequent shoppers, making purchases approximately 168 times per period, significantly more than average.\",\n",
      "  \"segment_share_in_percent\": 13\n",
      "}\n",
      "```\n"
     ]
    },
    {
     "data": {
      "text/html": [
       "<div>\n",
       "<style scoped>\n",
       "    .dataframe tbody tr th:only-of-type {\n",
       "        vertical-align: middle;\n",
       "    }\n",
       "\n",
       "    .dataframe tbody tr th {\n",
       "        vertical-align: top;\n",
       "    }\n",
       "\n",
       "    .dataframe thead th {\n",
       "        text-align: right;\n",
       "    }\n",
       "</style>\n",
       "<table border=\"1\" class=\"dataframe\">\n",
       "  <thead>\n",
       "    <tr style=\"text-align: right;\">\n",
       "      <th></th>\n",
       "      <th>segment_id</th>\n",
       "      <th>segment_name</th>\n",
       "      <th>segment_description</th>\n",
       "      <th>segment_share_in_percent</th>\n",
       "    </tr>\n",
       "  </thead>\n",
       "  <tbody>\n",
       "    <tr>\n",
       "      <th>0</th>\n",
       "      <td>1</td>\n",
       "      <td>Affluent Career-Focused Millennials</td>\n",
       "      <td>This segment consists of younger professionals...</td>\n",
       "      <td>24</td>\n",
       "    </tr>\n",
       "    <tr>\n",
       "      <th>1</th>\n",
       "      <td>2</td>\n",
       "      <td>Financially Bold Seniors</td>\n",
       "      <td>This segment consists of financially adventuro...</td>\n",
       "      <td>31</td>\n",
       "    </tr>\n",
       "    <tr>\n",
       "      <th>2</th>\n",
       "      <td>3</td>\n",
       "      <td>Premium Conservative Spenders</td>\n",
       "      <td>This segment consists of high-value but infreq...</td>\n",
       "      <td>32</td>\n",
       "    </tr>\n",
       "    <tr>\n",
       "      <th>3</th>\n",
       "      <td>4</td>\n",
       "      <td>Affluent Sports Enthusiasts</td>\n",
       "      <td>This segment consists of avid sports enthusias...</td>\n",
       "      <td>13</td>\n",
       "    </tr>\n",
       "  </tbody>\n",
       "</table>\n",
       "</div>"
      ],
      "text/plain": [
       "   segment_id                         segment_name  \\\n",
       "0           1  Affluent Career-Focused Millennials   \n",
       "1           2             Financially Bold Seniors   \n",
       "2           3        Premium Conservative Spenders   \n",
       "3           4          Affluent Sports Enthusiasts   \n",
       "\n",
       "                                 segment_description  segment_share_in_percent  \n",
       "0  This segment consists of younger professionals...                        24  \n",
       "1  This segment consists of financially adventuro...                        31  \n",
       "2  This segment consists of high-value but infreq...                        32  \n",
       "3  This segment consists of avid sports enthusias...                        13  "
      ]
     },
     "execution_count": 3,
     "metadata": {},
     "output_type": "execute_result"
    }
   ],
   "source": [
    "segments_df = get_name_and_description(INPUT_PATH, prompt_template1, prompt_template2, verbose=True)\n",
    "segments_df"
   ]
  },
  {
   "cell_type": "code",
   "execution_count": 5,
   "id": "8551ca5f-a7e7-478a-93e5-ae8282f38edf",
   "metadata": {
    "tags": []
   },
   "outputs": [],
   "source": [
    "s = segments_df.to_json()"
   ]
  },
  {
   "cell_type": "code",
   "execution_count": 8,
   "id": "1209151a-a679-4d65-80fc-5c1fb35c5298",
   "metadata": {
    "tags": []
   },
   "outputs": [
    {
     "data": {
      "text/html": [
       "<div>\n",
       "<style scoped>\n",
       "    .dataframe tbody tr th:only-of-type {\n",
       "        vertical-align: middle;\n",
       "    }\n",
       "\n",
       "    .dataframe tbody tr th {\n",
       "        vertical-align: top;\n",
       "    }\n",
       "\n",
       "    .dataframe thead th {\n",
       "        text-align: right;\n",
       "    }\n",
       "</style>\n",
       "<table border=\"1\" class=\"dataframe\">\n",
       "  <thead>\n",
       "    <tr style=\"text-align: right;\">\n",
       "      <th></th>\n",
       "      <th>segment_id</th>\n",
       "      <th>segment_name</th>\n",
       "      <th>segment_description</th>\n",
       "      <th>segment_share_in_percent</th>\n",
       "    </tr>\n",
       "  </thead>\n",
       "  <tbody>\n",
       "    <tr>\n",
       "      <th>0</th>\n",
       "      <td>1</td>\n",
       "      <td>Affluent Career-Focused Millennials</td>\n",
       "      <td>This segment consists of younger professionals...</td>\n",
       "      <td>24</td>\n",
       "    </tr>\n",
       "    <tr>\n",
       "      <th>1</th>\n",
       "      <td>2</td>\n",
       "      <td>Financially Bold Seniors</td>\n",
       "      <td>This segment consists of financially adventuro...</td>\n",
       "      <td>31</td>\n",
       "    </tr>\n",
       "    <tr>\n",
       "      <th>2</th>\n",
       "      <td>3</td>\n",
       "      <td>Premium Conservative Spenders</td>\n",
       "      <td>This segment consists of high-value but infreq...</td>\n",
       "      <td>32</td>\n",
       "    </tr>\n",
       "    <tr>\n",
       "      <th>3</th>\n",
       "      <td>4</td>\n",
       "      <td>Affluent Sports Enthusiasts</td>\n",
       "      <td>This segment consists of avid sports enthusias...</td>\n",
       "      <td>13</td>\n",
       "    </tr>\n",
       "  </tbody>\n",
       "</table>\n",
       "</div>"
      ],
      "text/plain": [
       "   segment_id                         segment_name  \\\n",
       "0           1  Affluent Career-Focused Millennials   \n",
       "1           2             Financially Bold Seniors   \n",
       "2           3        Premium Conservative Spenders   \n",
       "3           4          Affluent Sports Enthusiasts   \n",
       "\n",
       "                                 segment_description  segment_share_in_percent  \n",
       "0  This segment consists of younger professionals...                        24  \n",
       "1  This segment consists of financially adventuro...                        31  \n",
       "2  This segment consists of high-value but infreq...                        32  \n",
       "3  This segment consists of avid sports enthusias...                        13  "
      ]
     },
     "execution_count": 8,
     "metadata": {},
     "output_type": "execute_result"
    }
   ],
   "source": [
    "pd.DataFrame(json.loads(s))"
   ]
  },
  {
   "cell_type": "markdown",
   "id": "160aca64-fbea-448b-a1d6-6b50bb816bdd",
   "metadata": {
    "tags": []
   },
   "source": [
    "# (2) Find images for segments"
   ]
  },
  {
   "cell_type": "code",
   "execution_count": 7,
   "id": "7d8a7b9d-0729-4cf7-8294-44661aa7a7d1",
   "metadata": {
    "tags": []
   },
   "outputs": [],
   "source": [
    "num_segments = 4\n",
    "new_filetype = \"png\""
   ]
  },
  {
   "cell_type": "code",
   "execution_count": 8,
   "id": "08e321c0-3032-43e9-a9ea-31f0145f3ee0",
   "metadata": {
    "tags": []
   },
   "outputs": [],
   "source": [
    "segments_df[\"segment_id\"] = segments_df[\"segment_id\"].astype(int)"
   ]
  },
  {
   "cell_type": "code",
   "execution_count": 9,
   "id": "ea2b58f8-afde-45a1-8006-b49b48675567",
   "metadata": {
    "tags": []
   },
   "outputs": [
    {
     "name": "stdout",
     "output_type": "stream",
     "text": [
      "Affluent Career-Focused Millennials with people\n",
      "\n",
      "You are an assistant to an analyst who is creating a presentation material.\n",
      "Here we are trying to find the best image for the given description.\n",
      "\n",
      "<description>\n",
      "Affluent Career-Focused Millennials with people\n",
      "</description>\n",
      "\n",
      "<guidelines>\n",
      "1. The best image has to have people's happy faces in it.\n",
      "2. The best image  has to be a photographed image.\n",
      "3. The best image does not contain texts in the image.\n",
      "4. Do not pick one with multiple photographs in one image.\n",
      "5. Do not pick an inappropriate image because the image will be used in a presentation.\n",
      "6. Your response should be just one integer. For example, if the 3rd image out of 10 images is picked, the response should be just \"3\".\n",
      "</guidelines>\n",
      "\n",
      "best_image1.png\n",
      "Risk-Embracing Active Seniors with people\n",
      "\n",
      "You are an assistant to an analyst who is creating a presentation material.\n",
      "Here we are trying to find the best image for the given description.\n",
      "\n",
      "<description>\n",
      "Risk-Embracing Active Seniors with people\n",
      "</description>\n",
      "\n",
      "<guidelines>\n",
      "1. The best image has to have people's happy faces in it.\n",
      "2. The best image  has to be a photographed image.\n",
      "3. The best image does not contain texts in the image.\n",
      "4. Do not pick one with multiple photographs in one image.\n",
      "5. Do not pick an inappropriate image because the image will be used in a presentation.\n",
      "6. Your response should be just one integer. For example, if the 3rd image out of 10 images is picked, the response should be just \"3\".\n",
      "</guidelines>\n",
      "\n",
      "best_image2.png\n",
      "Premium Conservative Spenders with people\n",
      "\n",
      "You are an assistant to an analyst who is creating a presentation material.\n",
      "Here we are trying to find the best image for the given description.\n",
      "\n",
      "<description>\n",
      "Premium Conservative Spenders with people\n",
      "</description>\n",
      "\n",
      "<guidelines>\n",
      "1. The best image has to have people's happy faces in it.\n",
      "2. The best image  has to be a photographed image.\n",
      "3. The best image does not contain texts in the image.\n",
      "4. Do not pick one with multiple photographs in one image.\n",
      "5. Do not pick an inappropriate image because the image will be used in a presentation.\n",
      "6. Your response should be just one integer. For example, if the 3rd image out of 10 images is picked, the response should be just \"3\".\n",
      "</guidelines>\n",
      "\n",
      "best_image3.png\n",
      "Affluent Sports Enthusiasts with people\n",
      "\n",
      "You are an assistant to an analyst who is creating a presentation material.\n",
      "Here we are trying to find the best image for the given description.\n",
      "\n",
      "<description>\n",
      "Affluent Sports Enthusiasts with people\n",
      "</description>\n",
      "\n",
      "<guidelines>\n",
      "1. The best image has to have people's happy faces in it.\n",
      "2. The best image  has to be a photographed image.\n",
      "3. The best image does not contain texts in the image.\n",
      "4. Do not pick one with multiple photographs in one image.\n",
      "5. Do not pick an inappropriate image because the image will be used in a presentation.\n",
      "6. Your response should be just one integer. For example, if the 3rd image out of 10 images is picked, the response should be just \"3\".\n",
      "</guidelines>\n",
      "\n",
      "best_image4.png\n"
     ]
    }
   ],
   "source": [
    "for segment_id in range(1, num_segments + 1):\n",
    "    search_query = segments_df[segments_df[\"segment_id\"] == segment_id].iloc[0][\"segment_name\"] + \" with people\"\n",
    "    print(search_query)\n",
    "    images = search_google_images_selenium(search_query, num_images=15)\n",
    "    image_filetype, image_base64 = find_the_best_image(images, search_query, prompt_template=prompt_template3)\n",
    "    filename=f\"best_image{segment_id}\"\n",
    "    filename = save_base64_image_to_file(image_base64, filename=filename, filetype=image_filetype, new_size=140, new_filetype=new_filetype)\n",
    "    print(filename)"
   ]
  },
  {
   "cell_type": "markdown",
   "id": "43afd612-7688-4dfe-9be7-12a79d795581",
   "metadata": {},
   "source": [
    "# (3) Generate the slide"
   ]
  },
  {
   "cell_type": "code",
   "execution_count": 10,
   "id": "ae4df39b-710d-4f89-9eb8-7efa118732a2",
   "metadata": {
    "tags": []
   },
   "outputs": [],
   "source": [
    "final_pptx = generate_slide(segments_df,\n",
    "    num_segments=num_segments,\n",
    "    template_pptx_prefix=\"gs://genai-explorer-bucket/templates\",\n",
    "    image_type= new_filetype,\n",
    "    final_pptx = \"gs://genai-explorer-bucket/temp/segments5.pptx\"\n",
    ")\n",
    "final_pptx"
   ]
  },
  {
   "cell_type": "markdown",
   "id": "63655ddc-0981-454b-8e55-3a5d11f8c958",
   "metadata": {},
   "source": [
    "# (4) Create langgraph workflow"
   ]
  },
  {
   "cell_type": "code",
   "execution_count": 2,
   "id": "dba627bf-e1f5-4b3f-b5a8-089f52e21979",
   "metadata": {
    "tags": []
   },
   "outputs": [],
   "source": [
    "INPUT_PATH = \"gs://genai-explorer-bucket/data/cluster_info.csv\"\n",
    "TEMPLATE_PPTX_PREFIX = \"gs://genai-explorer-bucket/templates\"\n",
    "FINAL_PPTX = \"gs://genai-explorer-bucket/temp/segments.pptx\""
   ]
  },
  {
   "cell_type": "code",
   "execution_count": 41,
   "id": "ccc0bcaf-c910-4b85-8371-b2bc6628b4c0",
   "metadata": {
    "tags": []
   },
   "outputs": [],
   "source": [
    "# Define the agent's state\n",
    "class AgentState(TypedDict):\n",
    "    input_path: str\n",
    "    template_pptx_prefix: str\n",
    "    final_pptx_filename: str\n",
    "    num_segments: int\n",
    "    segments_df_str: str\n",
    "    search_queries: list\n",
    "    messages: Annotated[list, add_messages]\n",
    "\n",
    "input_state = {\n",
    "    \"input_path\": INPUT_PATH,\n",
    "    \"template_pptx_prefix\": TEMPLATE_PPTX_PREFIX,\n",
    "    \"final_pptx_filename\": FINAL_PPTX,\n",
    "    \"messages\": [\n",
    "        SystemMessage(content=prompt_template4_system),\n",
    "    ],\n",
    "}\n",
    "# Initialize agent memory\n",
    "memory = MemorySaver()"
   ]
  },
  {
   "cell_type": "code",
   "execution_count": 42,
   "id": "d50bd210-8375-4268-98fe-f939acf9af8b",
   "metadata": {
    "tags": []
   },
   "outputs": [],
   "source": [
    "def get_names_and_descriptions(state: AgentState):\n",
    "    print(\"* starting get_names_and_description\")\n",
    "    input_path = state[\"input_path\"]\n",
    "    segments_df = get_name_and_description(input_path, prompt_template1, prompt_template2, verbose=False)\n",
    "    num_segments = segments_df[\"segment_id\"].nunique()\n",
    "    return {\n",
    "        \"segments_df_str\": segments_df.to_json(),\n",
    "        \"num_segments\": num_segments,\n",
    "    }"
   ]
  },
  {
   "cell_type": "code",
   "execution_count": 43,
   "id": "cf57bde5-87ad-4320-a256-435abc2cadb5",
   "metadata": {
    "tags": []
   },
   "outputs": [],
   "source": [
    "def get_search_queries_for_images(state: AgentState):\n",
    "    print(\"* starting get_search_queries_for_images\")\n",
    "    segments_df = pd.DataFrame(json.loads(state[\"segments_df_str\"]))\n",
    "    segments_df[\"segment_id\"] = segments_df[\"segment_id\"].astype(int)\n",
    "    search_queries = []\n",
    "    for segment_id in sorted(segments_df[\"segment_id\"].unique()):\n",
    "        search_query = segments_df[segments_df[\"segment_id\"] == segment_id].iloc[0][\"segment_name\"] + \" with people\"\n",
    "        search_queries.append({\"id\": int(segment_id), \"search_query\": search_query})\n",
    "    return {\n",
    "        \"search_queries\": search_queries,\n",
    "        \"messages\": [HumanMessage(content=prompt_template4_user.format(search_queries=json.dumps(search_queries)))]\n",
    "    }"
   ]
  },
  {
   "cell_type": "code",
   "execution_count": 44,
   "id": "95bc6164-c872-437e-a393-1cc5df7ea2fa",
   "metadata": {
    "tags": []
   },
   "outputs": [],
   "source": [
    "@tool\n",
    "def find_and_save_image_for_segment(\n",
    "    segment_id: str,\n",
    "    search_query: str,\n",
    ") -> str:\n",
    "    \"\"\"\n",
    "    Search images in Google Images using the given search query, and retrieve those images.\n",
    "    \n",
    "    Args:\n",
    "        segment_id (str): id of the segment\n",
    "        search_query (str): The search term or description\n",
    "        \n",
    "    Returns:\n",
    "        filename of the saved image\n",
    "    \"\"\"\n",
    "    print(f\"* starting find_and_save_image_for_segment for segment_id {segment_id}\")\n",
    "    images = search_google_images_selenium(search_query, num_images=15)\n",
    "    image_filetype, image_base64 = find_the_best_image(images, search_query, prompt_template=prompt_template3)\n",
    "    filename=f\"best_image{segment_id}\"\n",
    "    filename = save_base64_image_to_file(image_base64, filename=filename, filetype=image_filetype, new_size=140)\n",
    "    return filename"
   ]
  },
  {
   "cell_type": "code",
   "execution_count": 45,
   "id": "468debb0-1b61-43f5-854a-c6505b9d0f3d",
   "metadata": {
    "tags": []
   },
   "outputs": [],
   "source": [
    "tools = [find_and_save_image_for_segment]\n",
    "tool_node = ToolNode(tools)"
   ]
  },
  {
   "cell_type": "code",
   "execution_count": 46,
   "id": "72e81e4b-ea59-43df-8f26-f5905b7ce149",
   "metadata": {
    "tags": []
   },
   "outputs": [],
   "source": [
    "def get_images(state: AgentState):\n",
    "    print(\"* starting get_images\")\n",
    "    messages = state[\"messages\"]\n",
    "    last_message = messages[-1]\n",
    "    model_with_tools = MODEL_LANGCHAIN.bind_tools(tools)\n",
    "    response = model_with_tools.invoke(messages)\n",
    "    return {\n",
    "        \"messages\": [response]\n",
    "    }"
   ]
  },
  {
   "cell_type": "code",
   "execution_count": 47,
   "id": "19723a66-4a67-4c76-a5c2-e9f1fa2e9b9f",
   "metadata": {
    "tags": []
   },
   "outputs": [],
   "source": [
    "# Determine if additional tool calls are needed\n",
    "def should_continue(state: AgentState):\n",
    "    messages = state[\"messages\"]\n",
    "    last_message = messages[-1]\n",
    "    if last_message.tool_calls:\n",
    "        return \"find_and_save_image_tool\"\n",
    "    return \"create_slide\""
   ]
  },
  {
   "cell_type": "code",
   "execution_count": 56,
   "id": "e82caec5-cc59-45eb-86cb-63174bb47865",
   "metadata": {
    "tags": []
   },
   "outputs": [],
   "source": [
    "def create_slide(state: AgentState):\n",
    "    print(\"* starting create_slide\")\n",
    "    segments_df = pd.DataFrame(json.loads(state[\"segments_df_str\"]))\n",
    "    segments_df[\"segment_id\"] = segments_df[\"segment_id\"].astype(int)\n",
    "    num_segments = state[\"num_segments\"]\n",
    "    template_pptx_prefix = state[\"template_pptx_prefix\"]\n",
    "    final_pptx = state[\"final_pptx_filename\"]\n",
    "    try:\n",
    "        _ = generate_slide(segments_df,\n",
    "            num_segments=num_segments,\n",
    "            template_pptx_prefix=template_pptx_prefix,\n",
    "            final_pptx=final_pptx\n",
    "        )\n",
    "        return {\"messages\": f\"{final_pptx} has been created.\"}\n",
    "    except Exception as e:\n",
    "        return {\"messages\": str(e)}"
   ]
  },
  {
   "cell_type": "markdown",
   "id": "01b26c19-02ca-4d85-b630-55fcdc589a3c",
   "metadata": {},
   "source": [
    "## (4-1) Define the workflow"
   ]
  },
  {
   "cell_type": "code",
   "execution_count": 57,
   "id": "1122f111-31ba-4474-8e1a-f32712bea0d4",
   "metadata": {
    "tags": []
   },
   "outputs": [
    {
     "data": {
      "text/plain": [
       "<langgraph.graph.state.StateGraph at 0x7f019dd1fe50>"
      ]
     },
     "execution_count": 57,
     "metadata": {},
     "output_type": "execute_result"
    }
   ],
   "source": [
    "# Initialize the LangGraph workflow, specifying the agent's state schema\n",
    "workflow = StateGraph(AgentState)\n",
    "\n",
    "# Add nodes to the workflow, associating each node with its corresponding function\n",
    "workflow.add_node(\"get_names_and_descriptions\", get_names_and_descriptions)\n",
    "workflow.add_node(\"get_search_queries_for_images\", get_search_queries_for_images)\n",
    "workflow.add_node(\"get_images\", get_images)\n",
    "workflow.add_node(\"find_and_save_image_tool\", tool_node)\n",
    "workflow.add_node(\"create_slide\", create_slide)\n",
    "\n",
    "# Define the flow of execution between nodes, creating the workflow's logic\n",
    "workflow.add_edge(START, \"get_names_and_descriptions\")\n",
    "workflow.add_edge(\"get_names_and_descriptions\", \"get_search_queries_for_images\")\n",
    "workflow.add_edge(\"get_search_queries_for_images\", \"get_images\")\n",
    "workflow.add_conditional_edges(\"get_images\", should_continue, [\"find_and_save_image_tool\", \"create_slide\"])\n",
    "workflow.add_edge(\"find_and_save_image_tool\", \"get_images\")\n",
    "workflow.add_edge(\"create_slide\", END)"
   ]
  },
  {
   "cell_type": "code",
   "execution_count": 58,
   "id": "96b5954f-4cd6-43ae-ae71-5306cd8f52d0",
   "metadata": {
    "tags": []
   },
   "outputs": [],
   "source": [
    "# Compile the LangGraph workflow, enabling memory-based state management\n",
    "graph = workflow.compile(checkpointer=memory)"
   ]
  },
  {
   "cell_type": "markdown",
   "id": "d9977efd-50a7-4120-a597-626c33c5fa48",
   "metadata": {},
   "source": [
    "## (4-2) Execute the workflow"
   ]
  },
  {
   "cell_type": "code",
   "execution_count": 59,
   "id": "28851e53-aca2-4076-a231-7f9b9e632399",
   "metadata": {
    "tags": []
   },
   "outputs": [
    {
     "name": "stdout",
     "output_type": "stream",
     "text": [
      "* starting get_names_and_description\n",
      "Agent Node: get_names_and_descriptions\n",
      "\n",
      "Agent Result:\n",
      "{'segments_df_str': '{\"segment_id\":{\"0\":1,\"1\":2,\"2\":3,\"3\":4},\"segment_name\":{\"0\":\"Affluent Career-Focused Millennials\",\"1\":\"Risk-Taking Active Seniors\",\"2\":\"Premium Conservative Spenders\",\"3\":\"Affluent Sports Enthusiasts\"},\"segment_description\":{\"0\":\"This segment consists of younger professionals in their mid-30s with above-average household incomes of around $246,000. Despite their financial prosperity, they spend less on purchases (about $224 per transaction) than the average consumer. Notably, these individuals show minimal interest in sports, with particularly low engagement in fantasy sports and football compared to the general population. They represent nearly a quarter of the customer base.\",\"1\":\"This segment consists of financially risk-tolerant seniors in their early 60s who are active consumers despite having moderate incomes. With an average household income of $135,000 (lower than the overall average), they still make purchases more frequently than typical consumers\\\\u2014about 186 times compared to the overall average of 143. While comfortable taking financial risks, they show little interest in sportsbook gaming.\",\"2\":\"This segment consists of high-value but infrequent shoppers who spend around $442 per purchase, significantly above the average of $267. Despite making only 65 purchases compared to the overall average of 143, they are financially conservative with a risk tendency of 0.24. They attend about 21 sporting events annually, slightly below average, and show no interest in video games.\",\"3\":\"This segment consists of avid sports enthusiasts in their early 40s with strong interests in football and sports betting. With household incomes averaging around $224,000, they\\'re more affluent than the general population. These individuals are frequent shoppers, making purchases approximately 168 times per period, significantly above average.\"},\"segment_share_in_percent\":{\"0\":24,\"1\":31,\"2\":32,\"3\":13}}', 'num_segments': 4}\n",
      "\n",
      "====================\n",
      "\n",
      "* starting get_search_queries_for_images\n",
      "Agent Node: get_search_queries_for_images\n",
      "\n",
      "Agent Result:\n",
      "{'search_queries': [{'id': 1, 'search_query': 'Affluent Career-Focused Millennials with people'}, {'id': 2, 'search_query': 'Risk-Taking Active Seniors with people'}, {'id': 3, 'search_query': 'Premium Conservative Spenders with people'}, {'id': 4, 'search_query': 'Affluent Sports Enthusiasts with people'}], 'messages': [HumanMessage(content='Obtain the best images for given search queries.\\n<search_queries>\\n[{\"id\": 1, \"search_query\": \"Affluent Career-Focused Millennials with people\"}, {\"id\": 2, \"search_query\": \"Risk-Taking Active Seniors with people\"}, {\"id\": 3, \"search_query\": \"Premium Conservative Spenders with people\"}, {\"id\": 4, \"search_query\": \"Affluent Sports Enthusiasts with people\"}]\\n</search_queries>\\n', additional_kwargs={}, response_metadata={}, id='3967bbf8-a3a4-42d6-b073-c6f263f09e2d')]}\n",
      "\n",
      "====================\n",
      "\n",
      "* starting get_images\n",
      "Agent Node: get_images\n",
      "\n",
      "Agent Result:\n",
      "{'messages': [AIMessage(content=[{'citations': None, 'text': \"I'll find the best images for each of your search queries. Let me process them one by one.\", 'type': 'text'}, {'id': 'toolu_vrtx_017pFppb75wcncuCuk6HHPz1', 'input': {'segment_id': '1', 'search_query': 'Affluent Career-Focused Millennials with people'}, 'name': 'find_and_save_image_for_segment', 'type': 'tool_use'}], additional_kwargs={}, response_metadata={'id': 'msg_vrtx_015Y4V36bbZW2SrHJtACGBrd', 'model': 'claude-3-7-sonnet-20250219', 'stop_reason': 'tool_use', 'stop_sequence': None, 'usage': {'cache_creation_input_tokens': 0, 'cache_read_input_tokens': 0, 'input_tokens': 1468, 'output_tokens': 115}}, id='run-4a2b000e-dddc-4270-887d-b79a1cd91ad0-0', tool_calls=[{'name': 'find_and_save_image_for_segment', 'args': {'segment_id': '1', 'search_query': 'Affluent Career-Focused Millennials with people'}, 'id': 'toolu_vrtx_017pFppb75wcncuCuk6HHPz1', 'type': 'tool_call'}], usage_metadata={'input_tokens': 1468, 'output_tokens': 115, 'total_tokens': 1583, 'cache_creation_input_tokens': 0, 'cache_read_input_tokens': 0})]}\n",
      "\n",
      "====================\n",
      "\n",
      "* starting find_and_save_image_for_segment for segment_id 1\n",
      "Agent Node: find_and_save_image_tool\n",
      "\n",
      "Agent Result:\n",
      "{'messages': [ToolMessage(content='best_image1.png', name='find_and_save_image_for_segment', id='9af22307-0bd2-4bac-96a2-9380a411a4a3', tool_call_id='toolu_vrtx_017pFppb75wcncuCuk6HHPz1')]}\n",
      "\n",
      "====================\n",
      "\n",
      "* starting get_images\n",
      "Agent Node: get_images\n",
      "\n",
      "Agent Result:\n",
      "{'messages': [AIMessage(content=[{'id': 'toolu_vrtx_01A7NLJCF55k85mZMKZWDn1v', 'input': {'segment_id': '2', 'search_query': 'Risk-Taking Active Seniors with people'}, 'name': 'find_and_save_image_for_segment', 'type': 'tool_use'}], additional_kwargs={}, response_metadata={'id': 'msg_vrtx_01Ev83E7KDfDTZAAkQWVEVZE', 'model': 'claude-3-7-sonnet-20250219', 'stop_reason': 'tool_use', 'stop_sequence': None, 'usage': {'cache_creation_input_tokens': 0, 'cache_read_input_tokens': 0, 'input_tokens': 1600, 'output_tokens': 90}}, id='run-eb272f0f-ae0c-4c40-8b33-6e9cc19774c8-0', tool_calls=[{'name': 'find_and_save_image_for_segment', 'args': {'segment_id': '2', 'search_query': 'Risk-Taking Active Seniors with people'}, 'id': 'toolu_vrtx_01A7NLJCF55k85mZMKZWDn1v', 'type': 'tool_call'}], usage_metadata={'input_tokens': 1600, 'output_tokens': 90, 'total_tokens': 1690, 'cache_creation_input_tokens': 0, 'cache_read_input_tokens': 0})]}\n",
      "\n",
      "====================\n",
      "\n",
      "* starting find_and_save_image_for_segment for segment_id 2\n",
      "Agent Node: find_and_save_image_tool\n",
      "\n",
      "Agent Result:\n",
      "{'messages': [ToolMessage(content='best_image2.png', name='find_and_save_image_for_segment', id='6f31c632-b8d1-4e3c-9ca5-340e6f0a44c7', tool_call_id='toolu_vrtx_01A7NLJCF55k85mZMKZWDn1v')]}\n",
      "\n",
      "====================\n",
      "\n",
      "* starting get_images\n",
      "Agent Node: get_images\n",
      "\n",
      "Agent Result:\n",
      "{'messages': [AIMessage(content=[{'id': 'toolu_vrtx_01XsQvBXhoEAZbi2L8oMGMHs', 'input': {'segment_id': '3', 'search_query': 'Premium Conservative Spenders with people'}, 'name': 'find_and_save_image_for_segment', 'type': 'tool_use'}], additional_kwargs={}, response_metadata={'id': 'msg_vrtx_01C4x4wBPH2Q89FKSWgYgu4y', 'model': 'claude-3-7-sonnet-20250219', 'stop_reason': 'tool_use', 'stop_sequence': None, 'usage': {'cache_creation_input_tokens': 0, 'cache_read_input_tokens': 0, 'input_tokens': 1707, 'output_tokens': 89}}, id='run-7ae5d4f8-e9f2-4715-be5b-0bd77a56c96e-0', tool_calls=[{'name': 'find_and_save_image_for_segment', 'args': {'segment_id': '3', 'search_query': 'Premium Conservative Spenders with people'}, 'id': 'toolu_vrtx_01XsQvBXhoEAZbi2L8oMGMHs', 'type': 'tool_call'}], usage_metadata={'input_tokens': 1707, 'output_tokens': 89, 'total_tokens': 1796, 'cache_creation_input_tokens': 0, 'cache_read_input_tokens': 0})]}\n",
      "\n",
      "====================\n",
      "\n",
      "* starting find_and_save_image_for_segment for segment_id 3\n",
      "Agent Node: find_and_save_image_tool\n",
      "\n",
      "Agent Result:\n",
      "{'messages': [ToolMessage(content='best_image3.png', name='find_and_save_image_for_segment', id='87e2c81f-00f4-439c-82cb-9c70b18751df', tool_call_id='toolu_vrtx_01XsQvBXhoEAZbi2L8oMGMHs')]}\n",
      "\n",
      "====================\n",
      "\n",
      "* starting get_images\n",
      "Agent Node: get_images\n",
      "\n",
      "Agent Result:\n",
      "{'messages': [AIMessage(content=[{'id': 'toolu_vrtx_013wTpWB5QFv1jKQkxNk8cY3', 'input': {'segment_id': '4', 'search_query': 'Affluent Sports Enthusiasts with people'}, 'name': 'find_and_save_image_for_segment', 'type': 'tool_use'}], additional_kwargs={}, response_metadata={'id': 'msg_vrtx_01LJnysrU1xDM4V3SvmfbrSi', 'model': 'claude-3-7-sonnet-20250219', 'stop_reason': 'tool_use', 'stop_sequence': None, 'usage': {'cache_creation_input_tokens': 0, 'cache_read_input_tokens': 0, 'input_tokens': 1813, 'output_tokens': 91}}, id='run-bb61047f-16cf-46d2-8888-b9a877e95635-0', tool_calls=[{'name': 'find_and_save_image_for_segment', 'args': {'segment_id': '4', 'search_query': 'Affluent Sports Enthusiasts with people'}, 'id': 'toolu_vrtx_013wTpWB5QFv1jKQkxNk8cY3', 'type': 'tool_call'}], usage_metadata={'input_tokens': 1813, 'output_tokens': 91, 'total_tokens': 1904, 'cache_creation_input_tokens': 0, 'cache_read_input_tokens': 0})]}\n",
      "\n",
      "====================\n",
      "\n",
      "* starting find_and_save_image_for_segment for segment_id 4\n",
      "Agent Node: find_and_save_image_tool\n",
      "\n",
      "Agent Result:\n",
      "{'messages': [ToolMessage(content='best_image4.png', name='find_and_save_image_for_segment', id='96c942cc-6400-4d11-9e8b-f1842ce7605a', tool_call_id='toolu_vrtx_013wTpWB5QFv1jKQkxNk8cY3')]}\n",
      "\n",
      "====================\n",
      "\n",
      "* starting get_images\n",
      "Agent Node: get_images\n",
      "\n",
      "Agent Result:\n",
      "{'messages': [AIMessage(content='[\\n  {\\n    \"id\": 1,\\n    \"path\": \"best_image1.png\"\\n  },\\n  {\\n    \"id\": 2,\\n    \"path\": \"best_image2.png\"\\n  },\\n  {\\n    \"id\": 3,\\n    \"path\": \"best_image3.png\"\\n  },\\n  {\\n    \"id\": 4,\\n    \"path\": \"best_image4.png\"\\n  }\\n]', additional_kwargs={}, response_metadata={'id': 'msg_vrtx_01MVu18j47ApiJqvJoyHeQKe', 'model': 'claude-3-7-sonnet-20250219', 'stop_reason': 'end_turn', 'stop_sequence': None, 'usage': {'cache_creation_input_tokens': 0, 'cache_read_input_tokens': 0, 'input_tokens': 1921, 'output_tokens': 115}}, id='run-6519e213-c89d-4729-8488-6fb6313b8633-0', usage_metadata={'input_tokens': 1921, 'output_tokens': 115, 'total_tokens': 2036, 'cache_creation_input_tokens': 0, 'cache_read_input_tokens': 0})]}\n",
      "\n",
      "====================\n",
      "\n",
      "* starting create_slide\n",
      "Agent Node: create_slide\n",
      "\n",
      "Agent Result:\n",
      "{'messages': 'gs://genai-explorer-bucket/temp/segments.pptx has been created.'}\n",
      "\n",
      "====================\n",
      "\n"
     ]
    }
   ],
   "source": [
    "# Initialize a LangGraph thread with a unique ID for state management.\n",
    "thread_config = {\"configurable\": {\"thread_id\": \"1\"}}\n",
    "stream_mode = \"updates\"  # \"updates\" (only updates) or \"values\" (all values)\n",
    "\n",
    "# Execute the LangGraph workflow, streaming the results of each node.\n",
    "for state in graph.stream(\n",
    "    input=input_state,\n",
    "    config=thread_config,\n",
    "    stream_mode=stream_mode,\n",
    "):\n",
    "    # Print the name of the current node and its output for each step.\n",
    "    for node_name, node_output in state.items():\n",
    "        print(f\"Agent Node: {node_name}\\n\")\n",
    "        print(\"Agent Result:\")\n",
    "        print(str(node_output))  # Truncate output for display\n",
    "        #print(\"\\n-------------------\\n\")\n",
    "    print(\"\\n====================\\n\")"
   ]
  },
  {
   "cell_type": "code",
   "execution_count": 63,
   "id": "77748975-49b4-4fc7-8d56-e311e1172d78",
   "metadata": {
    "tags": []
   },
   "outputs": [
    {
     "data": {
      "image/png": "[encoded data removed]",
      "text/plain": [
       "<langgraph.graph.state.CompiledStateGraph object at 0x7f019eca3f40>"
      ]
     },
     "execution_count": 63,
     "metadata": {},
     "output_type": "execute_result"
    }
   ],
   "source": [
    "graph"
   ]
  },
  {
   "cell_type": "code",
   "execution_count": null,
   "id": "a7408b98-ce88-482a-b2a5-053348e2cdd6",
   "metadata": {},
   "outputs": [],
   "source": []
  }
 ],
 "metadata": {
  "environment": {
   "kernel": "conda-base-py",
   "name": "workbench-notebooks.m129",
   "type": "gcloud",
   "uri": "us-docker.pkg.dev/deeplearning-platform-release/gcr.io/workbench-notebooks:m129"
  },
  "kernelspec": {
   "display_name": "Python 3 (ipykernel)",
   "language": "python",
   "name": "conda-base-py"
  },
  "language_info": {
   "codemirror_mode": {
    "name": "ipython",
    "version": 3
   },
   "file_extension": ".py",
   "mimetype": "text/x-python",
   "name": "python",
   "nbconvert_exporter": "python",
   "pygments_lexer": "ipython3",
   "version": "3.10.16"
  }
 },
 "nbformat": 4,
 "nbformat_minor": 5
}
